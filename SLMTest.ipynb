{
 "cells": [
  {
   "cell_type": "code",
   "execution_count": 4,
   "metadata": {},
   "outputs": [
    {
     "name": "stdout",
     "output_type": "stream",
     "text": [
      "0\n",
      "欢迎来到SoloLandMud，这是一款MUD游戏\n",
      "游戏中所有的指令都是需要您输入文字，进行控制操作\n",
      "例如，可以输入“map”来获取当前地图，输入“help”获取基础指令提示\n",
      "战斗也都是通过指令来完成的\n",
      "尝试输入“map”获取当前地图\n",
      "\n"
     ]
    }
   ],
   "source": [
    "#SoloLandPy\n",
    "#Produced by Quming\n",
    "#Latest edit:20190925 0:24\n",
    "\n",
    "plot_progress = ''\n",
    "\n",
    "class Persion:\n",
    "    name = \"TestPeople\"\n",
    "    age = 10\n",
    "\n",
    "def showPlot(progress):\n",
    "    if (progress == '0'):\n",
    "        f = open('./plot/ch/0.txt',encoding = 'utf-8',mode = 'r')\n",
    "        print(f.read())\n",
    "        f.close()\n",
    "\n",
    "\n",
    "def init():\n",
    "    f = open('./udata/plot_progress.txt', mode = 'r')\n",
    "    global plot_progress\n",
    "    plot_progress = f.read()\n",
    "    f.close()\n",
    "    print(plot_progress)\n",
    "\n",
    "init()\n",
    "showPlot(plot_progress)\n"
   ]
  },
  {
   "cell_type": "code",
   "execution_count": 1,
   "metadata": {},
   "outputs": [
    {
     "name": "stdout",
     "output_type": "stream",
     "text": [
      "\n"
     ]
    }
   ],
   "source": [
    "#SoloLandPy\n",
    "#Produced by Quming\n",
    "#Latest edit:20190926 18:18\n",
    "\n",
    "plot_progress = ''\n",
    "\n",
    "class Persion:\n",
    "    name = \"TestPeople\"\n",
    "    age = 10\n",
    "\n",
    "def showPlot(progress):\n",
    "    if (progress == '0'):\n",
    "        f = open('./plot/ch/0.txt',encoding = 'utf-8',mode = 'r')\n",
    "        print(f.read())\n",
    "        f.close()\n",
    "\n",
    "\n",
    "def init():\n",
    "    f = open('./udata/plot_progress.txt', mode = 'r')\n",
    "    global plot_progress\n",
    "    plot_progress = f.read()\n",
    "    f.close()\n",
    "    print(plot_progress)\n",
    "\n",
    "init()\n",
    "showPlot(plot_progress)\n"
   ]
  },
  {
   "cell_type": "code",
   "execution_count": 3,
   "metadata": {},
   "outputs": [
    {
     "name": "stdout",
     "output_type": "stream",
     "text": [
      "0\n",
      "欢迎来到SoloLandMud，这是一款MUD游戏\n",
      "\n",
      "游戏中所有的指令都是需要您输入文字，进行控制操作\n",
      "\n",
      "例如，可以输入“map”来获取当前地图，输入“help”获取基础指令提示\n",
      "\n",
      "战斗也都是通过指令来完成的\n",
      "\n",
      "尝试输入“map”获取当前地图\n",
      "\n",
      "Command Mode\n",
      "map\n",
      "Map output\n",
      "Command complate!\n",
      "Command Mode\n"
     ]
    }
   ],
   "source": [
    "#SoloLandPy\n",
    "#Produced by Quming\n",
    "#Latest edit:20190928 19:24\n",
    "\n",
    "plot_progress = ''  #全局变量 剧情进度\n",
    "\n",
    "class Persion:\n",
    "    name = \"TestPeople\"\n",
    "    age = 10\n",
    "\n",
    "def showPlot(progress): #剧情显示函数\n",
    "    if (progress == '0'):\n",
    "        fplot = open('./plot/ch/0.txt',encoding = 'utf-8',mode = 'r')\n",
    "        ls = fplot.readlines()\n",
    "        #ls_len = len(ls)\n",
    "        for i in ls:\n",
    "            if (i[0] == '/'):\n",
    "                print(\"Command Mode\")\n",
    "                commandi = i.strip('/')\n",
    "                eval(commandi)\n",
    "            else:\n",
    "                print(i)\n",
    "        fplot.close()\n",
    "\n",
    "def getCommand(): #获取指令并操作的函数 返回输入的指令\n",
    "    com = input('')\n",
    "    ####指令判别####\n",
    "    if com == 'map':\n",
    "        print('Map output') #--这里应输出地图！读取地图文件--\n",
    "    ####判别 END####\n",
    "    print('Command complate!')\n",
    "    return com\n",
    "\n",
    "def setPlot(next): #剧情进度设定函数\n",
    "    global plot_progress\n",
    "    if next == '+':\n",
    "        plot_progress = plot_progress + 1\n",
    "    else:\n",
    "        plot_progress = next\n",
    "    fplotp = open('./udata/plot_progress.txt', mode = 'w')   #修改进度文件\n",
    "    fplotp.write(str(plot_progress))\n",
    "    fplotp.close()\n",
    "\n",
    "def init():\n",
    "    fplotp = open('./udata/plot_progress.txt', mode = 'r')   #获取剧情进度\n",
    "    global plot_progress                                #全局变量 剧情进度\n",
    "    plot_progress = fplotp.read()\n",
    "    fplotp.close()\n",
    "    print(plot_progress)#显示剧情\n",
    "\n",
    "init()\n",
    "showPlot(plot_progress)\n"
   ]
  },
  {
   "cell_type": "code",
   "execution_count": null,
   "metadata": {},
   "outputs": [],
   "source": []
  }
 ],
 "metadata": {
  "kernelspec": {
   "display_name": "Python 3",
   "language": "python",
   "name": "python3"
  },
  "language_info": {
   "codemirror_mode": {
    "name": "ipython",
    "version": 3
   },
   "file_extension": ".py",
   "mimetype": "text/x-python",
   "name": "python",
   "nbconvert_exporter": "python",
   "pygments_lexer": "ipython3",
   "version": "3.7.3"
  }
 },
 "nbformat": 4,
 "nbformat_minor": 2
}
